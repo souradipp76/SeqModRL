{
  "cells": [
    {
      "cell_type": "code",
      "execution_count": null,
      "metadata": {
        "id": "hnVgx6eIj8to"
      },
      "outputs": [],
      "source": [
        "from google.colab import drive\n",
        "drive.mount('/content/drive')"
      ]
    },
    {
      "cell_type": "code",
      "execution_count": null,
      "metadata": {
        "id": "Z26OaRf83jO_"
      },
      "outputs": [],
      "source": [
        "%cd /content/drive/MyDrive/Purdue/ECE595RL/project/"
      ]
    },
    {
      "cell_type": "code",
      "execution_count": null,
      "metadata": {
        "id": "mfSTUtah3-29"
      },
      "outputs": [],
      "source": [
        "!git clone https://github.com/souradipp76/decision-transformer.git"
      ]
    },
    {
      "cell_type": "markdown",
      "metadata": {
        "id": "CL1zVqbRVst6"
      },
      "source": [
        "## Installinf Dependencies - DT Atari"
      ]
    },
    {
      "cell_type": "code",
      "execution_count": null,
      "metadata": {
        "id": "PakgGJ_hXoN2"
      },
      "outputs": [],
      "source": [
        "%cd decision-transformer/atari"
      ]
    },
    {
      "cell_type": "code",
      "execution_count": null,
      "metadata": {
        "id": "qj-6rJleVfZT"
      },
      "outputs": [],
      "source": [
        "import os\n",
        "import yaml\n",
        "\n",
        "with open(\"conda_env.yml\") as file_handle:\n",
        "    environment_data = yaml.safe_load(file_handle)\n",
        "\n",
        "for dependency in environment_data[\"dependencies\"]:\n",
        "    if isinstance(dependency, dict):\n",
        "      for lib in dependency['pip']:\n",
        "        os.system(f\"pip install {lib}\")"
      ]
    },
    {
      "cell_type": "code",
      "execution_count": null,
      "metadata": {
        "id": "YJC3OAIDah-5"
      },
      "outputs": [],
      "source": [
        "!pip install git+https://github.com/takuseno/d4rl-atari"
      ]
    },
    {
      "cell_type": "code",
      "execution_count": null,
      "metadata": {
        "id": "yVrdIKe3g7fo"
      },
      "outputs": [],
      "source": [
        "!pip install -U \"gym[atari, accept-rom-license]\""
      ]
    },
    {
      "cell_type": "code",
      "execution_count": null,
      "metadata": {
        "id": "JP613hasZcEn"
      },
      "outputs": [],
      "source": [
        "!wget http://www.atarimania.com/roms/Roms.rar\n",
        "!mkdir /content/ROM/\n",
        "!unrar e Roms.rar /content/ROM/\n",
        "!python -m atari_py.import_roms /content/ROM/"
      ]
    },
    {
      "cell_type": "markdown",
      "source": [
        "## Download Dataset Manually (Optional)"
      ],
      "metadata": {
        "id": "dB0yuR9iC-jQ"
      }
    },
    {
      "cell_type": "code",
      "execution_count": null,
      "metadata": {
        "id": "IY16xvx7ikbE"
      },
      "outputs": [],
      "source": [
        "# !mkdir dqn_replay\n",
        "# !mkdir dqn_replay/Breakout\n",
        "# !gsutil -m cp -R gs://atari-replay-datasets/dqn/Breakout/1 dqn_replay/Breakout"
      ]
    },
    {
      "cell_type": "code",
      "execution_count": null,
      "metadata": {
        "id": "gnJIjBV9kF73"
      },
      "outputs": [],
      "source": [
        "# !rm -rf dqn_replay"
      ]
    },
    {
      "cell_type": "markdown",
      "source": [
        "## Download Pretrained Models"
      ],
      "metadata": {
        "id": "dVsEnMGUvLcn"
      }
    },
    {
      "cell_type": "code",
      "source": [
        "!git clone https://huggingface.co/edbeeching/decision_transformer_atari"
      ],
      "metadata": {
        "id": "dLZ7lw8PvO7s"
      },
      "execution_count": null,
      "outputs": []
    },
    {
      "cell_type": "markdown",
      "source": [
        "## Running Breakout Pretrained Evalualtion"
      ],
      "metadata": {
        "id": "hrTMwlKqucuf"
      }
    },
    {
      "cell_type": "code",
      "execution_count": null,
      "metadata": {
        "id": "IXC5J95GZ5aX"
      },
      "outputs": [],
      "source": [
        "!python run_dt_atari.py --seed 123 \\\n",
        "    --context_length 30 \\\n",
        "    --epochs 1 \\\n",
        "    --model_type 'reward_conditioned' \\\n",
        "    --game 'Breakout' \\\n",
        "    --batch_size 8 \\\n",
        "    --dataset 'qbert-mixed-v0' \\\n",
        "    --device 'cuda' \\\n",
        "    --ckpt_path '/content/drive/MyDrive/Purdue/ECE595RL/project/decision_transformer_atari/checkpoints/Breakout_123.pth'"
      ]
    },
    {
      "cell_type": "markdown",
      "source": [
        "## Running Qbert Pretrained Evaluation"
      ],
      "metadata": {
        "id": "HOikVRyvujJB"
      }
    },
    {
      "cell_type": "code",
      "execution_count": null,
      "metadata": {
        "id": "9SMOF2Hyy-cu"
      },
      "outputs": [],
      "source": [
        "!python run_dt_atari.py --seed 123 \\\n",
        "    --context_length 30 \\\n",
        "    --epochs 1 \\\n",
        "    --model_type 'reward_conditioned' \\\n",
        "    --game 'Qbert' \\\n",
        "    --batch_size 8 \\\n",
        "    --dataset 'qbert-mixed-v0' \\\n",
        "    --device 'cuda' \\\n",
        "    --ckpt_path '/content/drive/MyDrive/Purdue/ECE595RL/project/decision_transformer_atari/checkpoints/Qbert_123.pth'"
      ]
    },
    {
      "cell_type": "markdown",
      "source": [
        "## Running Pong Training and Evaluation"
      ],
      "metadata": {
        "id": "alCMexy0unLM"
      }
    },
    {
      "cell_type": "code",
      "execution_count": null,
      "metadata": {
        "id": "Kq6kmsswiqLY"
      },
      "outputs": [],
      "source": [
        "!python run_dt_atari.py --seed 123 \\\n",
        "    --context_length 50 \\\n",
        "    --epochs 5 \\\n",
        "    --model_type 'reward_conditioned' \\\n",
        "    --game 'Pong' \\\n",
        "    --batch_size 8 \\\n",
        "    --dataset 'pong-mixed-v0' \\\n",
        "    --device 'cuda' \\\n",
        "    --ckpt_path '/content/drive/MyDrive/Purdue/ECE595RL/project/decision-transformer/atari/Pong_123.pth' \\\n",
        "    --save_path '/content/drive/MyDrive/Purdue/ECE595RL/project/decision-transformer/atari/Pong_123.pth'"
      ]
    }
  ],
  "metadata": {
    "colab": {
      "provenance": [],
      "collapsed_sections": [
        "dB0yuR9iC-jQ",
        "dVsEnMGUvLcn"
      ]
    },
    "kernelspec": {
      "display_name": "Python 3",
      "name": "python3"
    },
    "language_info": {
      "name": "python"
    }
  },
  "nbformat": 4,
  "nbformat_minor": 0
}