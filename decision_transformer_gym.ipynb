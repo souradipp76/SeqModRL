{
  "cells": [
    {
      "cell_type": "code",
      "execution_count": null,
      "metadata": {
        "id": "hnVgx6eIj8to"
      },
      "outputs": [],
      "source": [
        "from google.colab import drive\n",
        "drive.mount('/content/drive')"
      ]
    },
    {
      "cell_type": "code",
      "execution_count": null,
      "metadata": {
        "id": "Z26OaRf83jO_"
      },
      "outputs": [],
      "source": [
        "%cd /content/drive/MyDrive/Purdue/ECE595RL/project/"
      ]
    },
    {
      "cell_type": "code",
      "execution_count": null,
      "metadata": {
        "id": "mfSTUtah3-29"
      },
      "outputs": [],
      "source": [
        "!git clone https://github.com/souradipp76/decision-transformer.git"
      ]
    },
    {
      "cell_type": "markdown",
      "metadata": {
        "id": "wvpmpL-4Pu4v"
      },
      "source": [
        "## Installation Dependencies - DT Gym"
      ]
    },
    {
      "cell_type": "code",
      "execution_count": null,
      "metadata": {
        "id": "3PDGsiR52fPY"
      },
      "outputs": [],
      "source": [
        "%cd decision-transformer/gym"
      ]
    },
    {
      "cell_type": "code",
      "execution_count": null,
      "metadata": {
        "id": "Ed1x20numIQa"
      },
      "outputs": [],
      "source": [
        "import os\n",
        "import yaml\n",
        "\n",
        "with open(\"conda_env.yml\") as file_handle:\n",
        "    environment_data = yaml.safe_load(file_handle)\n",
        "\n",
        "for dependency in environment_data[\"dependencies\"]:\n",
        "    if isinstance(dependency, dict):\n",
        "      for lib in dependency['pip']:\n",
        "        os.system(f\"pip install {lib}\")"
      ]
    },
    {
      "cell_type": "code",
      "execution_count": null,
      "metadata": {
        "id": "qE214IfT_gcX"
      },
      "outputs": [],
      "source": [
        "!pip install git+https://github.com/Farama-Foundation/d4rl@master#egg=d4rl"
      ]
    },
    {
      "cell_type": "code",
      "execution_count": null,
      "metadata": {
        "id": "Oeecstcjymz9"
      },
      "outputs": [],
      "source": [
        "!wget https://mujoco.org/download/mujoco210-linux-x86_64.tar.gz"
      ]
    },
    {
      "cell_type": "code",
      "execution_count": null,
      "metadata": {
        "id": "KHcIEQ3K0mJa"
      },
      "outputs": [],
      "source": [
        "!mkdir ~/.mujoco\n",
        "!tar xvf mujoco210-linux-x86_64.tar.gz -C ~/.mujoco"
      ]
    },
    {
      "cell_type": "code",
      "execution_count": null,
      "metadata": {
        "id": "tNbZqPucw43_"
      },
      "outputs": [],
      "source": [
        "import os\n",
        "os.environ['LD_LIBRARY_PATH']='/usr/lib64-nvidia'\n",
        "os.environ['LD_LIBRARY_PATH']+=':'+'/root/.mujoco/mujoco210/bin'\n",
        "os.environ['LD_LIBRARY_PATH']+=':'+'/usr/local/cuda-11.8/bin'\n",
        "os.environ['LD_LIBRARY_PATH']+=':'+'/usr/local/cuda-11.8/lib64'\n",
        "os.environ['CUDA_VISIBLE_DEVICE']='0'"
      ]
    },
    {
      "cell_type": "code",
      "execution_count": null,
      "metadata": {
        "colab": {
          "base_uri": "https://localhost:8080/"
        },
        "id": "XojhG-72zUSU",
        "outputId": "05f982d1-bd89-486d-f027-138da26bb125"
      },
      "outputs": [
        {
          "output_type": "stream",
          "name": "stdout",
          "text": [
            "/usr/lib64-nvidia:/root/.mujoco/mujoco210/bin:/usr/local/cuda-11.8/bin:/usr/local/cuda-11.8/lib64\n"
          ]
        }
      ],
      "source": [
        "!echo $LD_LIBRARY_PATH"
      ]
    },
    {
      "cell_type": "code",
      "execution_count": null,
      "metadata": {
        "id": "FBzu0J80Cnl9"
      },
      "outputs": [],
      "source": [
        "!pip install mujoco-py transformers \"cython<3\" -U wandb"
      ]
    },
    {
      "cell_type": "code",
      "execution_count": null,
      "metadata": {
        "id": "UqftgKndCDav"
      },
      "outputs": [],
      "source": [
        "!apt-get install libosmesa6-dev patchelf"
      ]
    },
    {
      "cell_type": "markdown",
      "source": [
        "## Download D4RL datasets"
      ],
      "metadata": {
        "id": "Qs9IVYoIKEm-"
      }
    },
    {
      "cell_type": "code",
      "source": [
        "!python data/download_d4rl_datasets.py"
      ],
      "metadata": {
        "id": "kkizZ--EKCyW"
      },
      "execution_count": null,
      "outputs": []
    },
    {
      "cell_type": "markdown",
      "metadata": {
        "id": "jeSQn_2ywSO5"
      },
      "source": [
        "## Running Half Cheetah Training"
      ]
    },
    {
      "cell_type": "code",
      "execution_count": null,
      "metadata": {
        "id": "_vqyQC9JvCOh"
      },
      "outputs": [],
      "source": [
        "# K = 20\n",
        "!python experiment.py --env halfcheetah --dataset medium --model_type dt --num_eval_episodes=50 --max_iters=5 --batch_size=8 --log_to_wandb=True"
      ]
    },
    {
      "cell_type": "code",
      "execution_count": null,
      "metadata": {
        "id": "_kksjZU9PmX_"
      },
      "outputs": [],
      "source": [
        "# K = 30\n",
        "!python experiment.py --env halfcheetah --dataset medium --model_type dt --num_eval_episodes=50 --max_iters=5 --batch_size=8 --log_to_wandb=True --K=30"
      ]
    },
    {
      "cell_type": "code",
      "execution_count": null,
      "metadata": {
        "id": "GoGGxDMtbT_o"
      },
      "outputs": [],
      "source": [
        "# K = 10\n",
        "!python experiment.py --env halfcheetah --dataset medium --model_type dt --num_eval_episodes=50 --max_iters=5 --batch_size=8 --log_to_wandb=True --K=10"
      ]
    },
    {
      "cell_type": "markdown",
      "metadata": {
        "id": "NkxbTsi_wgLd"
      },
      "source": [
        "## Running Hopper Training"
      ]
    },
    {
      "cell_type": "code",
      "execution_count": null,
      "metadata": {
        "id": "kp2qY5naPXQ8"
      },
      "outputs": [],
      "source": [
        "# K = 20\n",
        "!python experiment.py --env hopper --dataset medium --model_type dt --num_eval_episodes=50 --max_iters=5 --batch_size=8 --log_to_wandb=True"
      ]
    },
    {
      "cell_type": "code",
      "execution_count": null,
      "metadata": {
        "id": "hl9NL-qVpiWB"
      },
      "outputs": [],
      "source": [
        "# K = 30\n",
        "!python experiment.py --env hopper --dataset medium --model_type dt --num_eval_episodes=50 --max_iters=5 --batch_size=8 --log_to_wandb=True --K=30"
      ]
    },
    {
      "cell_type": "code",
      "execution_count": null,
      "metadata": {
        "id": "P-b8U0rZqzYa"
      },
      "outputs": [],
      "source": [
        "# K = 10\n",
        "!python experiment.py --env hopper --dataset medium --model_type dt --num_eval_episodes=50 --max_iters=5 --batch_size=8 --log_to_wandb=True --K=10"
      ]
    },
    {
      "cell_type": "markdown",
      "metadata": {
        "id": "Uhs9rQpKwmSD"
      },
      "source": [
        "## Running Walker Training"
      ]
    },
    {
      "cell_type": "code",
      "execution_count": null,
      "metadata": {
        "id": "1l6x0HwIPZDt"
      },
      "outputs": [],
      "source": [
        "# K = 20\n",
        "!python experiment.py --env walker2d --dataset medium --model_type dt --num_eval_episodes=50 --max_iters=5 --batch_size=8 --log_to_wandb=True"
      ]
    },
    {
      "cell_type": "code",
      "execution_count": null,
      "metadata": {
        "id": "_j95wpiavBFt"
      },
      "outputs": [],
      "source": [
        "# K = 30\n",
        "!python experiment.py --env walker2d --dataset medium --model_type dt --num_eval_episodes=50 --max_iters=5 --batch_size=8 --log_to_wandb=True --K=30"
      ]
    },
    {
      "cell_type": "code",
      "execution_count": null,
      "metadata": {
        "id": "5SoV5DosvKHL"
      },
      "outputs": [],
      "source": [
        "# K = 10\n",
        "!python experiment.py --env walker2d --dataset medium --model_type dt --num_eval_episodes=50 --max_iters=5 --batch_size=8 --log_to_wandb=True --K=10"
      ]
    }
  ],
  "metadata": {
    "accelerator": "GPU",
    "colab": {
      "provenance": []
    },
    "kernelspec": {
      "display_name": "Python 3",
      "name": "python3"
    },
    "language_info": {
      "name": "python"
    }
  },
  "nbformat": 4,
  "nbformat_minor": 0
}