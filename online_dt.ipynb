{
  "cells": [
    {
      "cell_type": "code",
      "execution_count": 2,
      "metadata": {
        "colab": {
          "base_uri": "https://localhost:8080/"
        },
        "id": "sxgzRs5B8NC8",
        "outputId": "fceb5bce-30ca-4ef5-8fba-fe9de50f4833"
      },
      "outputs": [
        {
          "output_type": "stream",
          "name": "stdout",
          "text": [
            "Drive already mounted at /content/drive; to attempt to forcibly remount, call drive.mount(\"/content/drive\", force_remount=True).\n"
          ]
        }
      ],
      "source": [
        "from google.colab import drive\n",
        "drive.mount('/content/drive')"
      ]
    },
    {
      "cell_type": "code",
      "source": [
        "!git clone https://github.com/souradipp76/online-dt.git"
      ],
      "metadata": {
        "id": "6NBaoD8sG4gP"
      },
      "execution_count": null,
      "outputs": []
    },
    {
      "cell_type": "code",
      "execution_count": 3,
      "metadata": {
        "colab": {
          "base_uri": "https://localhost:8080/"
        },
        "id": "ThdOE393Bq-k",
        "outputId": "32c0e66f-4a31-4e7c-d749-87415dbcdb75"
      },
      "outputs": [
        {
          "output_type": "stream",
          "name": "stdout",
          "text": [
            "/content/drive/MyDrive/Purdue/ECE595RL/project/online-dt\n"
          ]
        }
      ],
      "source": [
        "%cd /content/drive/MyDrive/Purdue/ECE595RL/project/online-dt"
      ]
    },
    {
      "cell_type": "markdown",
      "source": [
        "# Installing Dependencies"
      ],
      "metadata": {
        "id": "tx3Mg9biGwo8"
      }
    },
    {
      "cell_type": "code",
      "execution_count": 3,
      "metadata": {
        "id": "sgGCpVKUEolV"
      },
      "outputs": [],
      "source": [
        "import os\n",
        "import yaml\n",
        "\n",
        "with open(\"conda_env.yml\") as file_handle:\n",
        "    environment_data = yaml.safe_load(file_handle)\n",
        "\n",
        "for dependency in environment_data[\"dependencies\"]:\n",
        "    if isinstance(dependency, dict):\n",
        "      for lib in dependency['pip']:\n",
        "        os.system(f\"pip install {lib}\")"
      ]
    },
    {
      "cell_type": "code",
      "execution_count": null,
      "metadata": {
        "id": "qh5xTSMG8Eth"
      },
      "outputs": [],
      "source": [
        "!wget https://mujoco.org/download/mujoco210-linux-x86_64.tar.gz\n",
        "!mkdir ~/.mujoco\n",
        "!tar xvf mujoco210-linux-x86_64.tar.gz -C ~/.mujoco"
      ]
    },
    {
      "cell_type": "code",
      "execution_count": 5,
      "metadata": {
        "id": "vzo3c9WFsEPH"
      },
      "outputs": [],
      "source": [
        "import os\n",
        "os.environ['LD_LIBRARY_PATH']='/usr/lib64-nvidia'\n",
        "os.environ['LD_LIBRARY_PATH']+=':'+'/root/.mujoco/mujoco210/bin'\n",
        "os.environ['LD_LIBRARY_PATH']+=':'+'/usr/local/cuda-11.8/bin'\n",
        "os.environ['LD_LIBRARY_PATH']+=':'+'/usr/local/cuda-11.8/lib64'\n",
        "os.environ['CUDA_VISIBLE_DEVICE']='0'"
      ]
    },
    {
      "cell_type": "code",
      "execution_count": null,
      "metadata": {
        "id": "DZ7ygxbmbB_o"
      },
      "outputs": [],
      "source": [
        "!echo $LD_LIBRARY_PATH"
      ]
    },
    {
      "cell_type": "code",
      "execution_count": null,
      "metadata": {
        "id": "S-igk-w77M4e"
      },
      "outputs": [],
      "source": [
        "!pip install mujoco-py stable-baselines3[extra] transformers \"Cython<3\" wandb"
      ]
    },
    {
      "cell_type": "code",
      "execution_count": null,
      "metadata": {
        "id": "ENTBSrLB7kqB"
      },
      "outputs": [],
      "source": [
        "!pip install git+https://github.com/Farama-Foundation/d4rl@master#egg=d4rl"
      ]
    },
    {
      "cell_type": "code",
      "execution_count": null,
      "metadata": {
        "id": "E1JmLJ13Dq-N"
      },
      "outputs": [],
      "source": [
        "!apt install libosmesa6-dev libgl1-mesa-glx libglfw3 patchelf"
      ]
    },
    {
      "cell_type": "code",
      "execution_count": null,
      "metadata": {
        "id": "udEyjb1kMdKo"
      },
      "outputs": [],
      "source": [
        "!pip install -U \"gym[atari, accept-rom-license]\""
      ]
    },
    {
      "cell_type": "code",
      "execution_count": null,
      "metadata": {
        "id": "yKDeeUE8ssyD"
      },
      "outputs": [],
      "source": [
        "!pip install git+https://github.com/takuseno/d4rl-atari"
      ]
    },
    {
      "cell_type": "markdown",
      "source": [
        "# Running Online Decision Transformer on Gym Environments"
      ],
      "metadata": {
        "id": "JeRtX9betQNy"
      }
    },
    {
      "cell_type": "code",
      "execution_count": null,
      "metadata": {
        "id": "KNEia4TQr60N"
      },
      "outputs": [],
      "source": [
        "# Running Hopper\n",
        "!python main.py -w True --batch_size 8 \\\n",
        "    --env hopper-medium-v2 \\\n",
        "    --dataset_path_prefix '/content/drive/MyDrive/Purdue/ECE595RL/project/decision-transformer/gym/data' \\\n",
        "    --embed_dim 128 \\\n",
        "    --n_head 1 \\\n",
        "    --n_layer 3 \\\n",
        "    --max_pretrain_iters 5 \\\n",
        "    --max_online_iters 100 \\\n",
        "    --replay_size 1000 \\\n",
        "    --eval_rtg 3600\\\n",
        "    --online_rtg 7200"
      ]
    },
    {
      "cell_type": "code",
      "source": [
        "# Running Half Cheetah\n",
        "!python main.py -w True --batch_size 8 \\\n",
        "    --env halfcheetah-medium-v2 \\\n",
        "    --dataset_path_prefix '/content/drive/MyDrive/Purdue/ECE595RL/project/decision-transformer/gym/data' \\\n",
        "    --embed_dim 128 \\\n",
        "    --n_head 1 \\\n",
        "    --n_layer 3 \\\n",
        "    --max_pretrain_iters 5 \\\n",
        "    --max_online_iters 100 \\\n",
        "    --replay_size 1000 \\\n",
        "    --eval_rtg 6000\\\n",
        "    --online_rtg 12000"
      ],
      "metadata": {
        "id": "2zaT22GIGYsz"
      },
      "execution_count": null,
      "outputs": []
    },
    {
      "cell_type": "code",
      "source": [
        "# Running Walker2D\n",
        "!python main.py -w True --batch_size 8 \\\n",
        "    --env walker2d-medium-v2 \\\n",
        "    --dataset_path_prefix '/content/drive/MyDrive/Purdue/ECE595RL/project/decision-transformer/gym/data' \\\n",
        "    --embed_dim 128 \\\n",
        "    --n_head 1 \\\n",
        "    --n_layer 3 \\\n",
        "    --max_pretrain_iters 5 \\\n",
        "    --max_online_iters 100 \\\n",
        "    --replay_size 1000 \\\n",
        "    --eval_rtg 5000\\\n",
        "    --online_rtg 10000"
      ],
      "metadata": {
        "id": "6tisw_usGeMj"
      },
      "execution_count": null,
      "outputs": []
    },
    {
      "cell_type": "markdown",
      "source": [
        "# Running Online Decision Transformer on Atari Environments"
      ],
      "metadata": {
        "id": "864scpfztYLm"
      }
    },
    {
      "cell_type": "code",
      "execution_count": null,
      "metadata": {
        "id": "-1yaKR4-Gw0W"
      },
      "outputs": [],
      "source": [
        "# Training Breakout\n",
        "!python main.py -w True --batch_size 8 \\\n",
        "    --env \"breakout-mixed-v0\" \\\n",
        "    --embed_dim 128 \\\n",
        "    --n_head 8 \\\n",
        "    --n_layer 6 \\\n",
        "    --ordering 1 \\\n",
        "    --max_pretrain_iters 0 \\\n",
        "    --max_online_iters 100 \\\n",
        "    --replay_size 1000 \\\n",
        "    --online_rtg 180 \\\n",
        "    --eval_rtg 90 \\\n",
        "    --atari True \\\n",
        "    --device \"cuda\""
      ]
    },
    {
      "cell_type": "code",
      "source": [
        "# Training Pong\n",
        "!python main.py -w True --batch_size 8 \\\n",
        "    --env \"pong-mixed-v0\" \\\n",
        "    --embed_dim 128 \\\n",
        "    --n_head 8 \\\n",
        "    --n_layer 6 \\\n",
        "    --ordering 1 \\\n",
        "    --max_pretrain_iters 5 \\\n",
        "    --max_online_iters 25 \\\n",
        "    --replay_size 1000 \\\n",
        "    --online_rtg 40 \\\n",
        "    --eval_rtg 20 \\\n",
        "    --atari True \\\n",
        "    --device \"cuda\""
      ],
      "metadata": {
        "id": "qGwC-RowpqnK"
      },
      "execution_count": null,
      "outputs": []
    },
    {
      "cell_type": "code",
      "source": [
        "# Training Qbert\n",
        "!python main.py -w True --batch_size 8 \\\n",
        "    --env \"qbert-mixed-v0\" \\\n",
        "    --embed_dim 128 \\\n",
        "    --n_head 8 \\\n",
        "    --n_layer 6 \\\n",
        "    --ordering 1 \\\n",
        "    --max_pretrain_iters 5 \\\n",
        "    --max_online_iters 25 \\\n",
        "    --replay_size 1000 \\\n",
        "    --online_rtg 28000 \\\n",
        "    --eval_rtg 14000 \\\n",
        "    --atari True \\\n",
        "    --device \"cuda\""
      ],
      "metadata": {
        "id": "CCEmGAmbv9jB"
      },
      "execution_count": null,
      "outputs": []
    },
    {
      "cell_type": "markdown",
      "metadata": {
        "id": "kk0q1PpoHCsu"
      },
      "source": [
        "# Experiments with Unofficial Implementation (Optional)"
      ]
    },
    {
      "cell_type": "code",
      "execution_count": null,
      "metadata": {
        "id": "FrNfHFwMHK18"
      },
      "outputs": [],
      "source": [
        "#%cd /content/drive/MyDrive/Purdue/ECE595RL/project/"
      ]
    },
    {
      "cell_type": "code",
      "execution_count": null,
      "metadata": {
        "id": "tMOoxNy6mgty"
      },
      "outputs": [],
      "source": [
        "#!git clone https://github.com/daniellawson9999/online-decision-transformer.git"
      ]
    },
    {
      "cell_type": "code",
      "execution_count": null,
      "metadata": {
        "id": "mBxRmIw9HOCS"
      },
      "outputs": [],
      "source": [
        "#%cd /content/drive/MyDrive/Purdue/ECE595RL/project/online-decision-transformer"
      ]
    },
    {
      "cell_type": "code",
      "execution_count": null,
      "metadata": {
        "id": "GzZQOa7zHT4C"
      },
      "outputs": [],
      "source": [
        "# import os\n",
        "# import yaml\n",
        "\n",
        "# with open(\"conda_env.yml\") as file_handle:\n",
        "#     environment_data = yaml.safe_load(file_handle)\n",
        "\n",
        "# for dependency in environment_data[\"dependencies\"]:\n",
        "#     if isinstance(dependency, dict):\n",
        "#       for lib in dependency['pip']:\n",
        "#         os.system(f\"pip install {lib}\")"
      ]
    },
    {
      "cell_type": "code",
      "execution_count": null,
      "metadata": {
        "id": "jxcsXprMJh6q"
      },
      "outputs": [],
      "source": [
        "# !python experiment.py --env hopper --dataset medium --model_type dt --num_eval_episodes=5 --max_iters=3 --num_steps_per_iter=1000 --stochastic  --use_action_means --learning_rate=1e-4 --embed_dim=128 --weight_decay=5e-4 --K=20 --remove_pos_embs --n_layer=3 --n_head=1 --batch_size=8 --eval_context=5 -w True"
      ]
    },
    {
      "cell_type": "code",
      "execution_count": null,
      "metadata": {
        "colab": {
          "background_save": true
        },
        "id": "0xTyPa2fbnhT"
      },
      "outputs": [],
      "source": [
        "# !python experiment.py --env hopper --dataset medium --model_type dt --pretrained_model=/content/drive/MyDrive/Purdue/ECE595RL/project/online-decision-transformer/gym/models/hopper/dt_gym-experiment-hopper-medium-413024.pt --stochastic --use_action_means --online_training --eval_context=5 --K=20 --batch_size=8 --num_steps_per_iter=300 --max_iters=200 --num_eval_episodes=50  --device=cuda:0 --target_entropy -w True"
      ]
    }
  ],
  "metadata": {
    "colab": {
      "provenance": [],
      "collapsed_sections": [
        "kk0q1PpoHCsu"
      ],
      "gpuType": "T4"
    },
    "kernelspec": {
      "display_name": "Python 3",
      "name": "python3"
    },
    "language_info": {
      "name": "python"
    },
    "accelerator": "GPU"
  },
  "nbformat": 4,
  "nbformat_minor": 0
}